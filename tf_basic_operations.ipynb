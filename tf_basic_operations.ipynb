{
  "nbformat": 4,
  "nbformat_minor": 0,
  "metadata": {
    "colab": {
      "name": "Copy of tf_basic_operations.ipynb",
      "version": "0.3.2",
      "provenance": [],
      "collapsed_sections": []
    },
    "kernelspec": {
      "display_name": "IPython (Python 2.7)",
      "language": "python",
      "name": "python2"
    },
    "accelerator": "GPU"
  },
  "cells": [
    {
      "cell_type": "code",
      "metadata": {
        "id": "ouWsr94RCKnd",
        "colab_type": "code",
        "colab": {}
      },
      "source": [
        "import tensorflow as tf"
      ],
      "execution_count": 0,
      "outputs": []
    },
    {
      "cell_type": "markdown",
      "metadata": {
        "id": "Ud1-uJ4ur1ZS",
        "colab_type": "text"
      },
      "source": [
        ""
      ]
    },
    {
      "cell_type": "code",
      "metadata": {
        "id": "U9Ca7frCf3ns",
        "colab_type": "code",
        "colab": {
          "base_uri": "https://localhost:8080/",
          "height": 34
        },
        "outputId": "1ae6085a-b360-4f71-9600-5a8d56387c05"
      },
      "source": [
        "place1= tf.placeholder(tf.int16)\n",
        "place2=tf.placeholder(tf.int16)\n",
        "# place3=tf.placeholder(tf.int16)\n",
        "\n",
        "add=tf.add(place1,place2)\n",
        "\n",
        "with tf.Session() as sess:\n",
        "  a=sess.run(add,feed_dict={place1: 3, place2:5} )\n",
        "  print(a)"
      ],
      "execution_count": 2,
      "outputs": [
        {
          "output_type": "stream",
          "text": [
            "8\n"
          ],
          "name": "stdout"
        }
      ]
    },
    {
      "cell_type": "markdown",
      "metadata": {
        "id": "J0YQGSCLPxcr",
        "colab_type": "text"
      },
      "source": [
        "Basic Operations example using TensorFlow library."
      ]
    },
    {
      "cell_type": "code",
      "metadata": {
        "id": "yCxQes7Z3ZFw",
        "colab_type": "code",
        "colab": {
          "base_uri": "https://localhost:8080/",
          "height": 101
        },
        "outputId": "b3091ea9-19be-4278-bbf2-8a575509e4df"
      },
      "source": [
        "#define two constant tensors, this tensor is a 2*2 matrix \n",
        "a = tf.zeros((2,2)); \n",
        "b = tf.ones((2,2))\n",
        "a.get_shape()\n",
        "print(a)\n",
        "b.get_shape()\n",
        "#b.eval()\n",
        "with tf.Session() as sess:\n",
        "  print(b.eval())\n",
        "  print(a.eval())"
      ],
      "execution_count": 3,
      "outputs": [
        {
          "output_type": "stream",
          "text": [
            "Tensor(\"zeros:0\", shape=(2, 2), dtype=float32)\n",
            "[[1. 1.]\n",
            " [1. 1.]]\n",
            "[[0. 0.]\n",
            " [0. 0.]]\n"
          ],
          "name": "stdout"
        }
      ]
    },
    {
      "cell_type": "code",
      "metadata": {
        "id": "t9Vt63Sd6oM2",
        "colab_type": "code",
        "colab": {
          "base_uri": "https://localhost:8080/",
          "height": 134
        },
        "outputId": "5df04a3d-7200-41d6-f050-2ec89bc456fb"
      },
      "source": [
        "#define two constant tensor, this tensor is a 1-d variables \n",
        "tfa = tf.constant(5.0)\n",
        "tfb = tf.constant(6.0)\n",
        "c = tfa * tfb\n",
        "print(c)\n",
        "\n",
        "with tf.Session() as sess:\n",
        "    print(sess.run(c))\n",
        "    print(c.eval())\n",
        "    print(\"?\")\n",
        "\n",
        "# The value returned by the constructor represents the output\n",
        "# of the Constant op.\n",
        "a1 = tf.constant(2)\n",
        "b1 = tf.constant(3)\n",
        "c1 = tf.constant(4)\n",
        "\n",
        "\n",
        "# Launch the default graph.\n",
        "with tf.Session() as sess:\n",
        "    print \"a1: %i\" % sess.run(a1), \"b1: %i\" % sess.run(b1)\n",
        "    print \"Addition with constants: %i\" % sess.run(a1+b1+c1)\n",
        "    print \"Multiplication with constants: %i\" % sess.run(a1*b1+c1)\n"
      ],
      "execution_count": 4,
      "outputs": [
        {
          "output_type": "stream",
          "text": [
            "Tensor(\"mul:0\", shape=(), dtype=float32)\n",
            "30.0\n",
            "30.0\n",
            "?\n",
            "a1: 2 b1: 3\n",
            "Addition with constants: 9\n",
            "Multiplication with constants: 10\n"
          ],
          "name": "stdout"
        }
      ]
    },
    {
      "cell_type": "code",
      "metadata": {
        "id": "EOL6er7jC9Cg",
        "colab_type": "code",
        "colab": {
          "base_uri": "https://localhost:8080/",
          "height": 67
        },
        "outputId": "c8a6f71c-5b79-4f8b-b043-e2716244444c"
      },
      "source": [
        "# Basic Operations with variable as graph input\n",
        "# The value returned by the constructor represents the output\n",
        "# of the Variable op. (define as input when running session)\n",
        "# tf Graph input\n",
        "a2 = tf.placeholder(tf.int16)#variable\n",
        "b2 = tf.placeholder(tf.int16)\n",
        "a3=tf.placeholder(tf.int16)\n",
        "a4=tf.placeholder(tf.int64)\n",
        "\n",
        "\n",
        "\n",
        "# how to use feed_dict to initialize tensor \n",
        "add = tf.add(a3, b2)\n",
        "mul = tf.multiply(a2, b2)\n",
        "with tf.Session() as sess:\n",
        "    # Run every operation with variable input\n",
        "    print (sess.run(add,feed_dict={a3: 4, b2:6}))\n",
        "    print \"Addition with variables: %i\" % sess.run(add, feed_dict={a3: 4, b2: 5})\n",
        "    print \"Multiplication with variables: %i\" % sess.run(mul, feed_dict={a2: 6, b2: 7})\n",
        "    \n",
        "    \n",
        " "
      ],
      "execution_count": 5,
      "outputs": [
        {
          "output_type": "stream",
          "text": [
            "10\n",
            "Addition with variables: 9\n",
            "Multiplication with variables: 42\n"
          ],
          "name": "stdout"
        }
      ]
    },
    {
      "cell_type": "code",
      "metadata": {
        "id": "NHH_C08i7IKg",
        "colab_type": "code",
        "colab": {
          "base_uri": "https://localhost:8080/",
          "height": 154
        },
        "outputId": "99fa4b8e-9182-41e1-9c5d-45c817fe4631"
      },
      "source": [
        "w1 = tf.ones((2,2))\n",
        "# new ! now we use the tensor variables \n",
        "w2 = tf.Variable(tf.zeros((2,2)), name = \"weights\")\n",
        "with tf.Session() as sess:\n",
        "    print(sess.run(w1))\n",
        "    sess.run(tf.global_variables_initializer())#\n",
        "    print(sess.run(w2))"
      ],
      "execution_count": 6,
      "outputs": [
        {
          "output_type": "stream",
          "text": [
            "WARNING:tensorflow:From /usr/local/lib/python2.7/dist-packages/tensorflow/python/framework/op_def_library.py:263: colocate_with (from tensorflow.python.framework.ops) is deprecated and will be removed in a future version.\n",
            "Instructions for updating:\n",
            "Colocations handled automatically by placer.\n",
            "[[1. 1.]\n",
            " [1. 1.]]\n",
            "[[0. 0.]\n",
            " [0. 0.]]\n"
          ],
          "name": "stdout"
        }
      ]
    },
    {
      "cell_type": "code",
      "metadata": {
        "id": "xr9I_RG7CKng",
        "colab_type": "code",
        "colab": {
          "base_uri": "https://localhost:8080/",
          "height": 67
        },
        "outputId": "e01ecd41-f98c-4c8e-f5bb-73748e5cc9da"
      },
      "source": [
        "#updateing the variable state\n",
        "state = tf.Variable(0, name=\"counter\")\n",
        "for i in range(3):\n",
        "  state = tf.add(state, tf.constant(1))\n",
        "  with tf.Session() as sess:\n",
        "    sess.run(tf.global_variables_initializer())\n",
        "    print(sess.run(state))\n",
        "# update = tf.assign(state, new_value)\n",
        "\n",
        "\n",
        "\n",
        "    "
      ],
      "execution_count": 7,
      "outputs": [
        {
          "output_type": "stream",
          "text": [
            "1\n",
            "2\n",
            "3\n"
          ],
          "name": "stdout"
        }
      ]
    },
    {
      "cell_type": "code",
      "metadata": {
        "id": "Fn6AyJfyCKnl",
        "colab_type": "code",
        "colab": {}
      },
      "source": [
        ""
      ],
      "execution_count": 0,
      "outputs": []
    },
    {
      "cell_type": "code",
      "metadata": {
        "id": "tQFjMZBnCKnm",
        "colab_type": "code",
        "colab": {
          "base_uri": "https://localhost:8080/",
          "height": 34
        },
        "outputId": "fa9dbec0-648d-4ef8-fcfa-c990cb3b26fe"
      },
      "source": [
        "#run multiple operation \n",
        "input1 = tf.constant(3.0)\n",
        "input2 = tf.constant(2.0)\n",
        "input3 = tf.constant(5.0)\n",
        "intermed = tf.add(input2, input3)\n",
        "mul = tf.multiply(input1, intermed)\n",
        "with tf.Session() as sess:\n",
        "  result = sess.run([mul, intermed])\n",
        "  print(result)"
      ],
      "execution_count": 8,
      "outputs": [
        {
          "output_type": "stream",
          "text": [
            "[21.0, 7.0]\n"
          ],
          "name": "stdout"
        }
      ]
    },
    {
      "cell_type": "code",
      "metadata": {
        "id": "0vhfQ4G1HUUQ",
        "colab_type": "code",
        "colab": {
          "base_uri": "https://localhost:8080/",
          "height": 34
        },
        "outputId": "6ae5122a-a78f-4c4c-da4a-c9016cada4e1"
      },
      "source": [
        "input1 = tf.placeholder(tf.float16)\n",
        "input2 = tf.placeholder(tf.float16)\n",
        "output = tf.add(input1, input2)\n",
        "with tf.Session() as sess:\n",
        "  print(sess.run([output], feed_dict={input1:[7.], input2:[2.]}))"
      ],
      "execution_count": 9,
      "outputs": [
        {
          "output_type": "stream",
          "text": [
            "[array([9.], dtype=float16)]\n"
          ],
          "name": "stdout"
        }
      ]
    },
    {
      "cell_type": "code",
      "metadata": {
        "id": "DooHeAp2CKns",
        "colab_type": "code",
        "colab": {}
      },
      "source": [
        "# ----------------\n",
        "# More in details:\n",
        "# Matrix Multiplication from TensorFlow official tutorial\n",
        "\n",
        "# Create a Constant op that produces a 1x2 matrix.  The op is\n",
        "# added as a node to the default graph.\n",
        "#\n",
        "# The value returned by the constructor represents the output\n",
        "# of the Constant op.\n",
        "matrix1 = tf.constant([[3., 3.]])"
      ],
      "execution_count": 0,
      "outputs": []
    },
    {
      "cell_type": "code",
      "metadata": {
        "id": "DSGcI_S4CKnu",
        "colab_type": "code",
        "colab": {}
      },
      "source": [
        "# Create another Constant that produces a 2x1 matrix.\n",
        "matrix2 = tf.constant([[2.],[2.]])"
      ],
      "execution_count": 0,
      "outputs": []
    },
    {
      "cell_type": "code",
      "metadata": {
        "id": "ysSOI-tECKnw",
        "colab_type": "code",
        "colab": {}
      },
      "source": [
        "# Create a Matmul op that takes 'matrix1' and 'matrix2' as inputs.\n",
        "# The returned value, 'product', represents the result of the matrix\n",
        "# multiplication.\n",
        "product = tf.matmul(matrix1, matrix2)"
      ],
      "execution_count": 0,
      "outputs": []
    },
    {
      "cell_type": "code",
      "metadata": {
        "id": "R9OwBwyjCKnz",
        "colab_type": "code",
        "colab": {
          "base_uri": "https://localhost:8080/",
          "height": 34
        },
        "outputId": "218d73c2-acf4-4c64-b670-21363c53ecbe"
      },
      "source": [
        "# To run the matmul op we call the session 'run()' method, passing 'product'\n",
        "# which represents the output of the matmul op.  This indicates to the call\n",
        "# that we want to get the output of the matmul op back.\n",
        "#\n",
        "# All inputs needed by the op are run automatically by the session.  They\n",
        "# typically are run in parallel.\n",
        "#\n",
        "# The call 'run(product)' thus causes the execution of threes ops in the\n",
        "# graph: the two constants and matmul.\n",
        "#\n",
        "# The output of the op is returned in 'result' as a numpy `ndarray` object.\n",
        "with tf.Session() as sess:\n",
        "    result = sess.run(product)\n",
        "    print result"
      ],
      "execution_count": 13,
      "outputs": [
        {
          "output_type": "stream",
          "text": [
            "[[12.]]\n"
          ],
          "name": "stdout"
        }
      ]
    }
  ]
}